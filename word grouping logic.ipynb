#import and check data, clear duplicates and null values

import pandas as pd

data = pd.read_excel(r"D:\Python datasc\lessons\task\Data_for_if_statement.xlsx", engine='openpyxl')

print(data)
df=pd.DataFrame(data["column"])
df=df.dropna().drop_duplicates()
print(df)


from collections import defaultdict

def split_words_with_indices(words):
    """
    Splits all words in a list into characters with their corresponding indices (lowercase).

    Args:
        words: A list of words to process.

    Returns:
        A list of lists where each inner list contains tuples for characters and indices of a word.
    """
    words_with_indices = []
    for word in words:
        words_with_indices.append(split_word_with_indices(word))
    return words_with_indices

def split_word_with_indices(word):
    """
    Splits a word into a list of characters with their corresponding indices (lowercase).

    Args:
        word: The word to split (lowercase).

    Returns:
        A list of tuples where each tuple contains a character and its index.
    """
    return [(char, i) for i, char in enumerate(word.lower())]

def have_matching_triplets(word1, word2):
    """
    Check if two words have at least three matching character-index pairs (including spaces).

    Args:
        word1, word2: Lists of tuples (character, index) for each word.

    Returns:
        True if there are at least three matching character-index pairs, False otherwise.
    """
    matches = 0
    for i, (char1, _) in enumerate(word1):
        for j, (char2, _) in enumerate(word2):
            if char1 == char2 and i == j:  # Check character and index match
                matches += 1
                if matches >= 3:
                    return True
    return False

def merge_groups(groups):
    """
    Merge groups that have common words.

    Args:
        groups: List of groups of words.

    Returns:
        Merged list of groups.
    """
    merged = []
    while groups:
        group = groups.pop(0)
        merged_group = group
        rest_groups = []

        for other_group in groups:
            if any(word in group for word in other_group):
                merged_group.extend(word for word in other_group if word not in merged_group)
            else:
                rest_groups.append(other_group)
        merged.append(merged_group)
        groups = rest_groups

    return merged

def group_similar_words(words):
    """
    Group words that have at least three matching character-index pairs (including spaces).

    Args:
        words: A list of words to process.

    Returns:
        A list of lists where each inner list contains words belonging to the same group.
    """
    words_with_indices = split_words_with_indices(words)
    groups = []
    used_words = set()

    for i in range(len(words_with_indices)):
        if words[i] in used_words:
            continue

        group = [words[i]]
        used_words.add(words[i])

        for j in range(i + 1, len(words_with_indices)):
            if words[j] not in used_words and have_matching_triplets(words_with_indices[i], words_with_indices[j]):
                group.append(words[j])
                used_words.add(words[j])

        groups.append(group)

    # Merge groups with common words
    merged_groups = merge_groups(groups)

    return merged_groups

# Example usage
words = df['column'].tolist()
grouped_words = group_similar_words(words)

# Create a dictionary to map words to their group name (first word of the group)
word_to_group = {}
for group in grouped_words:
    group_name = group[0]  # Use the first word of the group as the group name
    for word in group:
        word_to_group[word] = group_name

# Add the group column to the DataFrame
df['group'] = df['column'].map(word_to_group).fillna('')

print(df)

# Print number of unique groups
print("NUMBER OF UNIQUE GROUPS:", df['group'].nunique())

# Print frequency of each group
print("\nGROUP FREQUENCY COUNT:")
print(df['group'].value_counts())

# Print groups with at least two members
value_counts = df['group'].value_counts()

at_least_twice = value_counts[value_counts >= 2]
print("\nGROUPS AT LEAST TWO:")
print(at_least_twice)

